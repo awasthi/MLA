{
 "cells": [
  {
   "cell_type": "code",
   "execution_count": 1,
   "metadata": {
    "collapsed": true
   },
   "outputs": [],
   "source": [
    "import numpy as np\n",
    "import matplotlib.pyplot as plt"
   ]
  },
  {
   "cell_type": "code",
   "execution_count": 21,
   "metadata": {
    "collapsed": true
   },
   "outputs": [],
   "source": [
    "def estimate_coeff(x,y):\n",
    "    #size of data set\n",
    "    n=np.size(x)\n",
    "    mean_x,mean_y = np.mean(x),np.mean(y)\n",
    "\n",
    "    # cross deviation and deviation about x\n",
    "    SS_xy = n*np.sum(y*x)-np.sum(x)*np.sum(y)\n",
    "    SS_xx = n*np.sum(x*x)-np.sum(x)*np.sum(x)\n",
    "    \n",
    "    #SS_xy = np.sum(y*x - n*mean_y*mean_x)\n",
    "    #SS_xx = np.sum(x*x - n*mean_x*mean_x)\n",
    "    \n",
    "    print(SS_xy,SS_xx)\n",
    "    b_1 = SS_xy/float(SS_xx)\n",
    "    b_0 = mean_y - b_1*mean_x\n",
    "    return(b_0,b_1)"
   ]
  },
  {
   "cell_type": "code",
   "execution_count": 3,
   "metadata": {
    "collapsed": true
   },
   "outputs": [],
   "source": [
    "def plot_reg_line(x,y,b):\n",
    "    plt.scatter(x,y,color=\"m\",marker=\"o\",s=30)\n",
    "    y_pred = b[0]+b[1]*x #response vector\n",
    "    \n",
    "    plt.plot(x,y_pred,color=\"g\")\n",
    "    \n",
    "    plt.xlabel('Size')\n",
    "    plt.ylabel('Cost')\n",
    "    \n",
    "    plt.show()"
   ]
  },
  {
   "cell_type": "code",
   "execution_count": 11,
   "metadata": {
    "collapsed": true
   },
   "outputs": [],
   "source": [
    "def main():\n",
    "    #x = np.array([1,2,3,4,5,6,7,8,9,10])\n",
    "    #y = np.array([300,350,500,700,800,850,900,900,1000,1200])\n",
    "    x = np.array([2,3,5,7,9])\n",
    "    y = np.array([4,5,7,10,15])\n",
    "    b = estimate_coeff(x,y)\n",
    "    print(\"Estimated coeff: \\nb_o={} \\nb_1={}\",(b[0],b[1]))\n",
    "    plot_reg_line(x,y,b)"
   ]
  },
  {
   "cell_type": "code",
   "execution_count": 22,
   "metadata": {
    "collapsed": false
   },
   "outputs": [
    {
     "name": "stdout",
     "output_type": "stream",
     "text": [
      "(249, 164)\n",
      "('Estimated coeff: \\nb_o={} \\nb_1={}', (0.30487804878048674, 1.5182926829268293))\n"
     ]
    }
   ],
   "source": [
    "if __name__== \"__main__\":\n",
    "    main()"
   ]
  },
  {
   "cell_type": "code",
   "execution_count": null,
   "metadata": {
    "collapsed": true
   },
   "outputs": [],
   "source": []
  }
 ],
 "metadata": {
  "kernelspec": {
   "display_name": "Python 2",
   "language": "python",
   "name": "python2"
  },
  "language_info": {
   "codemirror_mode": {
    "name": "ipython",
    "version": 2
   },
   "file_extension": ".py",
   "mimetype": "text/x-python",
   "name": "python",
   "nbconvert_exporter": "python",
   "pygments_lexer": "ipython2",
   "version": "2.7.13"
  }
 },
 "nbformat": 4,
 "nbformat_minor": 0
}
